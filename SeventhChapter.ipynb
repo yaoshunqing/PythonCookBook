{
 "cells": [
  {
   "cell_type": "markdown",
   "metadata": {
    "collapsed": true
   },
   "source": [
    "#7.1可接受任意数量参数的函数"
   ]
  },
  {
   "cell_type": "code",
   "execution_count": 1,
   "metadata": {},
   "outputs": [
    {
     "name": "stdout",
     "output_type": "stream",
     "text": [
      "1.5\n3.0\n"
     ]
    }
   ],
   "source": [
    "def avg(*nums):\n",
    "    return sum(nums) / len(nums)\n",
    "print(avg(1, 2))\n",
    "print(avg(1, 2, 3, 4, 5))"
   ]
  },
  {
   "cell_type": "code",
   "execution_count": 2,
   "metadata": {},
   "outputs": [
    {
     "name": "stdout",
     "output_type": "stream",
     "text": [
      "(1, 2)\n{'a': 1, 'b': 2}\n"
     ]
    }
   ],
   "source": [
    "def anavg(*nums, **kwargs):\n",
    "    print(nums) #tuple\n",
    "    print(kwargs) #dict\n",
    "anavg(1, 2, a=1, b=2)"
   ]
  },
  {
   "cell_type": "markdown",
   "metadata": {},
   "source": [
    "#7.2只接受关键字参数函数"
   ]
  },
  {
   "cell_type": "code",
   "execution_count": null,
   "metadata": {},
   "outputs": [],
   "source": [
    "#一个*参数只能出现在函数定义中最后一个位置参数前面，而**参数只能出现在最后一个参数\n",
    "def a(x, *args, y):\n",
    "    pass\n",
    "def aa(x, *, y):\n",
    "    pass\n",
    "def aaa(x, *a):\n",
    "    pass\n",
    "def aaaa(x, *):\n",
    "    pass\n",
    "def b(*args, y, **kwargs):\n",
    "    pass\n",
    "def c(a=1, *args, y, **kwargs):\n",
    "    pass\n",
    "def d(*, *args, y, **kwargs):\n",
    "    pass\n",
    "def e(a=1, *args, *, **kwargs):\n",
    "    pass\n",
    "def f(a=1, *, **kwargs):\n",
    "    pass\n",
    "def g(a=1, *, b):\n",
    "    pass\n",
    "def h(*, b):\n",
    "    pass\n",
    "def i(*):\n",
    "    pass\n",
    "def j(**kwargs):\n",
    "    pass\n",
    "def k(**):\n",
    "    pass\n",
    "def l(a, **):\n",
    "    pass\n",
    "\n"
   ]
  },
  {
   "cell_type": "code",
   "execution_count": null,
   "metadata": {},
   "outputs": [],
   "source": [
    "#放在*后面的参数即为强制关键字参数,中间的*没有含义，并不是任意参数的意思\n",
    "def recv(maxsize, *, block):\n",
    "    pass\n",
    "recv(1,1,1,1,block=1)\n",
    "recv(1,True)\n",
    "recv(1,block=1)\n"
   ]
  },
  {
   "cell_type": "code",
   "execution_count": null,
   "metadata": {},
   "outputs": [],
   "source": [
    "#放在任意多位置参数后面的关键字函数\n",
    "def mininum(*a, b):\n",
    "    pass\n",
    "mininum(1,1,1,True)\n",
    "mininum(1,1,1,b=True)\n"
   ]
  },
  {
   "cell_type": "markdown",
   "metadata": {},
   "source": [
    "#7.3给函数参数增加元信息"
   ]
  },
  {
   "cell_type": "code",
   "execution_count": null,
   "metadata": {},
   "outputs": [],
   "source": []
  },
  {
   "cell_type": "code",
   "execution_count": null,
   "metadata": {},
   "outputs": [],
   "source": []
  },
  {
   "cell_type": "code",
   "execution_count": null,
   "metadata": {},
   "outputs": [],
   "source": []
  },
  {
   "cell_type": "code",
   "execution_count": null,
   "metadata": {},
   "outputs": [],
   "source": []
  },
  {
   "cell_type": "code",
   "execution_count": null,
   "metadata": {},
   "outputs": [],
   "source": []
  },
  {
   "cell_type": "code",
   "execution_count": null,
   "metadata": {},
   "outputs": [],
   "source": []
  },
  {
   "cell_type": "code",
   "execution_count": null,
   "metadata": {},
   "outputs": [],
   "source": []
  },
  {
   "cell_type": "code",
   "execution_count": null,
   "metadata": {},
   "outputs": [],
   "source": []
  },
  {
   "cell_type": "code",
   "execution_count": null,
   "metadata": {},
   "outputs": [],
   "source": []
  },
  {
   "cell_type": "code",
   "execution_count": null,
   "metadata": {},
   "outputs": [],
   "source": []
  },
  {
   "cell_type": "code",
   "execution_count": null,
   "metadata": {},
   "outputs": [],
   "source": []
  },
  {
   "cell_type": "code",
   "execution_count": null,
   "metadata": {},
   "outputs": [],
   "source": []
  },
  {
   "cell_type": "code",
   "execution_count": null,
   "metadata": {},
   "outputs": [],
   "source": []
  },
  {
   "cell_type": "code",
   "execution_count": null,
   "metadata": {},
   "outputs": [],
   "source": []
  },
  {
   "cell_type": "code",
   "execution_count": null,
   "metadata": {},
   "outputs": [],
   "source": []
  },
  {
   "cell_type": "code",
   "execution_count": null,
   "metadata": {},
   "outputs": [],
   "source": []
  },
  {
   "cell_type": "code",
   "execution_count": null,
   "metadata": {},
   "outputs": [],
   "source": []
  },
  {
   "cell_type": "code",
   "execution_count": null,
   "metadata": {},
   "outputs": [],
   "source": []
  },
  {
   "cell_type": "code",
   "execution_count": null,
   "metadata": {},
   "outputs": [],
   "source": []
  }
 ],
 "metadata": {
  "kernelspec": {
   "display_name": "Python 2",
   "language": "python",
   "name": "python2"
  },
  "language_info": {
   "codemirror_mode": {
    "name": "ipython",
    "version": 2
   },
   "file_extension": ".py",
   "mimetype": "text/x-python",
   "name": "python",
   "nbconvert_exporter": "python",
   "pygments_lexer": "ipython2",
   "version": "2.7.6"
  }
 },
 "nbformat": 4,
 "nbformat_minor": 0
}
