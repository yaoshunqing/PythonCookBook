{
 "cells": [
  {
   "cell_type": "markdown",
   "metadata": {},
   "source": [
    "# 1.1解压序列赋值给多个变量"
   ]
  },
  {
   "cell_type": "code",
   "execution_count": 6,
   "metadata": {
    "collapsed": true
   },
   "outputs": [
    {
     "data": {
      "text/plain": [
       "4"
      ]
     },
     "execution_count": 6,
     "metadata": {},
     "output_type": "execute_result"
    }
   ],
   "source": [
    "p = (4,5)\n",
    "x, y = p\n",
    "x\n"
   ]
  },
  {
   "cell_type": "code",
   "execution_count": 7,
   "metadata": {
    "collapsed": true
   },
   "outputs": [
    {
     "data": {
      "text/plain": [
       "5"
      ]
     },
     "execution_count": 7,
     "metadata": {},
     "output_type": "execute_result"
    }
   ],
   "source": [
    "y"
   ]
  },
  {
   "cell_type": "code",
   "execution_count": 8,
   "metadata": {
    "collapsed": true
   },
   "outputs": [
    {
     "data": {
      "text/plain": [
       "'ACME'"
      ]
     },
     "execution_count": 8,
     "metadata": {},
     "output_type": "execute_result"
    }
   ],
   "source": [
    "data = ['ACME', 50, 91.1, (2012, 12, 21)]\n",
    "name, shares, price, date = data\n",
    "name"
   ]
  },
  {
   "cell_type": "code",
   "execution_count": 9,
   "metadata": {
    "collapsed": true
   },
   "outputs": [
    {
     "data": {
      "text/plain": [
       "50"
      ]
     },
     "execution_count": 9,
     "metadata": {},
     "output_type": "execute_result"
    }
   ],
   "source": [
    "shares"
   ]
  },
  {
   "cell_type": "code",
   "execution_count": 11,
   "metadata": {},
   "outputs": [
    {
     "data": {
      "text/plain": [
       "(2012, 12, 21)"
      ]
     },
     "execution_count": 11,
     "metadata": {},
     "output_type": "execute_result"
    }
   ],
   "source": [
    "date"
   ]
  },
  {
   "cell_type": "code",
   "execution_count": 15,
   "metadata": {},
   "outputs": [
    {
     "data": {
      "text/plain": [
       "2012"
      ]
     },
     "execution_count": 15,
     "metadata": {},
     "output_type": "execute_result"
    }
   ],
   "source": [
    "[year, mon, day] = date #[]换成元组()也可以，两者都是序列且()不可变\n",
    "year"
   ]
  },
  {
   "cell_type": "code",
   "execution_count": 16,
   "metadata": {},
   "outputs": [
    {
     "data": {
      "text/plain": [
       "'H'"
      ]
     },
     "execution_count": 16,
     "metadata": {},
     "output_type": "execute_result"
    }
   ],
   "source": [
    "s = 'Hello' #字符串也可以进行序列赋值\n",
    "a, b, c, d, e = s\n",
    "a"
   ]
  },
  {
   "cell_type": "code",
   "execution_count": 19,
   "metadata": {},
   "outputs": [
    {
     "data": {
      "text/plain": [
       "50"
      ]
     },
     "execution_count": 19,
     "metadata": {},
     "output_type": "execute_result"
    }
   ],
   "source": [
    "#有时想只解压一部分，可以采用任意变量名去占位然后丢弃即可\n",
    "data = ['ACME', 50, 91.1]\n",
    "_, shares, _ = data\n",
    "shares\n"
   ]
  },
  {
   "cell_type": "markdown",
   "metadata": {},
   "source": [
    "# 1.2解压可迭代对象赋值给多个变量"
   ]
  },
  {
   "cell_type": "code",
   "execution_count": 4,
   "metadata": {
    "collapsed": false
   },
   "outputs": [
    {
     "data": {
      "text/plain": [
       "20.0"
      ]
     },
     "execution_count": 4,
     "metadata": {},
     "output_type": "execute_result"
    }
   ],
   "source": [
    "# 使用*号表达式自动将中间部分归为一个list,同时去除最高分和最低分\n",
    "def drop_first_last(grades):\n",
    "    grades.sort()\n",
    "    first, *middle, last = grades\n",
    " \n",
    "    return sum(middle) / len(middle)\n",
    "    \n",
    "drop_first_last([25,20,20,20,15])\n",
    "    \n",
    "    "
   ]
  },
  {
   "cell_type": "code",
   "execution_count": 5,
   "metadata": {},
   "outputs": [
    {
     "data": {
      "text/plain": [
       "['123124', '67689']"
      ]
     },
     "execution_count": 5,
     "metadata": {},
     "output_type": "execute_result"
    }
   ],
   "source": [
    "# 另一种情况，存储倒数任意组数据。同理也可存储列表开始部分数据\n",
    "record = ['Dave', 'dave@bupt.edu.cn', '123124', '67689']\n",
    "name , email, *phone = record\n",
    "phone"
   ]
  },
  {
   "cell_type": "code",
   "execution_count": 8,
   "metadata": {},
   "outputs": [
    {
     "name": "stdout",
     "output_type": "stream",
     "text": [
      "foo 1 2\nbar hello hi\nfoo 9 3\n"
     ]
    }
   ],
   "source": [
    "# *用于可变长元组序列\n",
    "records = [\n",
    "    ('foo',1,2),\n",
    "    ('bar','hello','hi'),\n",
    "    ('foo',9,3)]\n",
    "\n",
    "def do_foo(x,y):\n",
    "    print('foo', x, y)\n",
    "\n",
    "def do_bar(x,y):\n",
    "    print('bar', x, y)\n",
    "    \n",
    "for tag, *args in records:\n",
    "    do_foo(*args) if tag == 'foo' else do_bar(*args)"
   ]
  },
  {
   "cell_type": "code",
   "execution_count": 10,
   "metadata": {},
   "outputs": [
    {
     "name": "stdout",
     "output_type": "stream",
     "text": [
      "nobody \n /var/empty \n /usr/bin/false\n"
     ]
    }
   ],
   "source": [
    "# *可用于字符串\n",
    "line = 'nobody:*:-2:-2:Unprivileged User:/var/empty:/usr/bin/false'\n",
    "uname, *_, homedir, sh = line.split(':')\n",
    "print(uname, '\\n', homedir, '\\n', sh)"
   ]
  },
  {
   "cell_type": "markdown",
   "metadata": {},
   "source": [
    "# 1.3保留最后N个元素"
   ]
  },
  {
   "cell_type": "code",
   "execution_count": 1,
   "metadata": {},
   "outputs": [],
   "source": [
    "#在多行上面做简单的文本匹配。并只返回在前N行中匹配成功的行\n",
    "from collections import deque\n",
    "\n",
    "def search(lines, pattern, history = 5):\n",
    "    previous_lines = deque(maxlen = history)\n",
    "    for li in lines:\n",
    "        if pattern in li:\n",
    "            yield li, previous_lines\n",
    "        previous_lines.append(li)\n",
    "\n",
    "# # Example use on a file\n",
    "# if __name__ == '__main__':\n",
    "#     with open('README.md') as f:\n",
    "#        for line, prevlines in search(f, 'python', 5):\n",
    "#            for pline in prevlines:\n",
    "#                print(pline, end='')\n",
    "#             print(line, end='')\n",
    "#             print('-' * 20)\n",
    "    \n",
    "\n"
   ]
  },
  {
   "cell_type": "code",
   "execution_count": 6,
   "metadata": {},
   "outputs": [
    {
     "data": {
      "text/plain": [
       "deque([1, 2, 3])"
      ]
     },
     "execution_count": 6,
     "metadata": {},
     "output_type": "execute_result"
    }
   ],
   "source": [
    "#deque是队列，先进先出\n",
    "q = deque(maxlen=3)\n",
    "q.append(1)\n",
    "q.append(2)\n",
    "q.append(3)\n",
    "q"
   ]
  },
  {
   "cell_type": "code",
   "execution_count": 7,
   "metadata": {},
   "outputs": [
    {
     "data": {
      "text/plain": [
       "deque([2, 3, 4])"
      ]
     },
     "execution_count": 7,
     "metadata": {},
     "output_type": "execute_result"
    }
   ],
   "source": [
    "q.append(4)\n",
    "q"
   ]
  },
  {
   "cell_type": "code",
   "execution_count": 14,
   "metadata": {},
   "outputs": [
    {
     "data": {
      "text/plain": [
       "deque([1, 2, 3])"
      ]
     },
     "execution_count": 14,
     "metadata": {},
     "output_type": "execute_result"
    }
   ],
   "source": [
    "#不设置最大长度时，得到的是一个无限大小队列\n",
    "q = deque()\n",
    "q.append(1)\n",
    "q.append(2)\n",
    "q.append(3)\n",
    "q"
   ]
  },
  {
   "cell_type": "code",
   "execution_count": 15,
   "metadata": {},
   "outputs": [
    {
     "data": {
      "text/plain": [
       "deque([4, 1, 2, 3])"
      ]
     },
     "execution_count": 15,
     "metadata": {},
     "output_type": "execute_result"
    }
   ],
   "source": [
    "q.appendleft(4)\n",
    "q"
   ]
  },
  {
   "cell_type": "code",
   "execution_count": 16,
   "metadata": {},
   "outputs": [
    {
     "data": {
      "text/plain": [
       "3"
      ]
     },
     "execution_count": 16,
     "metadata": {},
     "output_type": "execute_result"
    }
   ],
   "source": [
    "q.pop()"
   ]
  },
  {
   "cell_type": "code",
   "execution_count": 17,
   "metadata": {},
   "outputs": [
    {
     "data": {
      "text/plain": [
       "deque([4, 1, 2])"
      ]
     },
     "execution_count": 17,
     "metadata": {},
     "output_type": "execute_result"
    }
   ],
   "source": [
    "q"
   ]
  },
  {
   "cell_type": "code",
   "execution_count": 18,
   "metadata": {},
   "outputs": [
    {
     "data": {
      "text/plain": [
       "4"
      ]
     },
     "execution_count": 18,
     "metadata": {},
     "output_type": "execute_result"
    }
   ],
   "source": [
    "#在队列两端插入或删除元素时间复杂度都是O(1)，而在列表的开头插入或删除元素的时间复杂度为O(N)\n",
    "q.popleft()"
   ]
  },
  {
   "cell_type": "markdown",
   "metadata": {},
   "source": [
    "# 1.4查找最大或最小的N个元素"
   ]
  },
  {
   "cell_type": "code",
   "execution_count": 29,
   "metadata": {},
   "outputs": [
    {
     "name": "stdout",
     "output_type": "stream",
     "text": [
      "[42, 32, 23]\n[-4, 1, 2]\n"
     ]
    }
   ],
   "source": [
    "#使用heapq模块的两个函数解决这个问题\n",
    "import heapq\n",
    "nums = [1, 8, 2, 23, 7, -4, 42, 2 ,32]\n",
    "print(heapq.nlargest(3, nums))\n",
    "print(heapq.nsmallest(3,nums))"
   ]
  },
  {
   "cell_type": "code",
   "execution_count": 23,
   "metadata": {},
   "outputs": [
    {
     "name": "stdout",
     "output_type": "stream",
     "text": [
      "[{'name': 'YHOO', 'shares': 45, 'price': 16.35}, {'name': 'FB', 'shares': 200, 'price': 21.09}, {'name': 'HPQ', 'shares': 35, 'price': 31.75}]\n[{'name': 'AAPL', 'shares': 50, 'price': 543.22}, {'name': 'ACME', 'shares': 75, 'price': 115.65}, {'name': 'IBM', 'shares': 100, 'price': 91.1}]\n"
     ]
    }
   ],
   "source": [
    "portfolio = [\n",
    "{'name': 'IBM', 'shares': 100, 'price': 91.1},\n",
    "{'name': 'AAPL', 'shares': 50, 'price': 543.22},\n",
    "{'name': 'FB', 'shares': 200, 'price': 21.09},\n",
    "{'name': 'HPQ', 'shares': 35, 'price': 31.75},\n",
    "{'name': 'YHOO', 'shares': 45, 'price': 16.35},\n",
    "{'name': 'ACME', 'shares': 75, 'price': 115.65}\n",
    "]\n",
    "#用于更复杂的数据结构中，使用关键字参数\n",
    "cheap = heapq.nsmallest(3, portfolio, key=lambda x: x['price'])\n",
    "expensive = heapq.nlargest(3, portfolio, key=lambda x: x['price'])\n",
    "print(cheap)\n",
    "print(expensive)"
   ]
  },
  {
   "cell_type": "code",
   "execution_count": 30,
   "metadata": {},
   "outputs": [
    {
     "name": "stdout",
     "output_type": "stream",
     "text": [
      "[-4, 2, 1, 8, 7, 2, 42, 23, 32]\n-4\n1\n2\n"
     ]
    }
   ],
   "source": [
    "heapq.heapify(nums)\n",
    "print(nums)\n",
    "#堆的特征是heap[0]永远是最小的元素，剩余元素可以从小到大用heappop()依次取出\n",
    "for i in range(0,3):\n",
    "    print(heapq.heappop(nums))"
   ]
  },
  {
   "cell_type": "markdown",
   "metadata": {},
   "source": [
    "#1.5实现一个优先级队列"
   ]
  },
  {
   "cell_type": "code",
   "execution_count": 49,
   "metadata": {},
   "outputs": [],
   "source": [
    "import heapq\n",
    "class PriorityQueue():\n",
    "    def __init__(self):\n",
    "        self._queue = []\n",
    "        self._index = 0\n",
    "    def push(self, item, priority):\n",
    "        #优先级取负数，这样优先级最大的值会位于最前列，heappop时先取出第一个数\n",
    "        heapq.heappush(self._queue, (-priority, self._index, item))\n",
    "        self._index += 1\n",
    "    def pop(self):\n",
    "        #[-1]表示元组中的最后一位，即name值\n",
    "        return heapq.heappop(self._queue)[-1]\n",
    "\n",
    "class Item0():\n",
    "    def __init__(self, name):\n",
    "        self.name = name\n",
    "    def __repr__(self):\n",
    "        #自定义输出实例化对象时的信息\n",
    "        #下文pop的内容即为Item0('XXX'),因此输出自定义的字符串\n",
    "        #return 'Item({!r})'.format(self.name) 这两种方式均可,r和s的区别可以看有道云笔记\n",
    "        return 'Item({%r})'%(self.name)"
   ]
  },
  {
   "cell_type": "code",
   "execution_count": 50,
   "metadata": {},
   "outputs": [
    {
     "data": {
      "text/plain": [
       "Item({'bar'})"
      ]
     },
     "execution_count": 50,
     "metadata": {},
     "output_type": "execute_result"
    }
   ],
   "source": [
    "q = PriorityQueue()\n",
    "q.push(Item0('foo'), 1)\n",
    "q.push(Item0('bar'), 5)\n",
    "q.push(Item0('spam'), 4)\n",
    "q.push(Item0('grok'), 1)\n",
    "q.pop()"
   ]
  },
  {
   "cell_type": "code",
   "execution_count": 57,
   "metadata": {},
   "outputs": [
    {
     "name": "stdout",
     "output_type": "stream",
     "text": [
      "True\n"
     ]
    },
    {
     "ename": "TypeError",
     "evalue": "'<' not supported between instances of 'Item0' and 'Item0'",
     "traceback": [
      "\u001b[1;31m---------------------------------------------------------------------------\u001b[0m",
      "\u001b[1;31mTypeError\u001b[0m                                 Traceback (most recent call last)",
      "\u001b[1;32m<ipython-input-57-8e08376b4aba>\u001b[0m in \u001b[0;36m<module>\u001b[1;34m\u001b[0m\n\u001b[0;32m      6\u001b[0m \u001b[0ma\u001b[0m \u001b[1;33m=\u001b[0m \u001b[1;33m(\u001b[0m\u001b[1;36m1\u001b[0m\u001b[1;33m,\u001b[0m \u001b[0mItem0\u001b[0m\u001b[1;33m(\u001b[0m\u001b[1;34m'foo'\u001b[0m\u001b[1;33m)\u001b[0m\u001b[1;33m)\u001b[0m\u001b[1;33m\u001b[0m\u001b[1;33m\u001b[0m\u001b[0m\n\u001b[0;32m      7\u001b[0m \u001b[0mb\u001b[0m \u001b[1;33m=\u001b[0m \u001b[1;33m(\u001b[0m\u001b[1;36m1\u001b[0m\u001b[1;33m,\u001b[0m \u001b[0mItem0\u001b[0m\u001b[1;33m(\u001b[0m\u001b[1;34m'bar'\u001b[0m\u001b[1;33m)\u001b[0m\u001b[1;33m)\u001b[0m\u001b[1;33m\u001b[0m\u001b[1;33m\u001b[0m\u001b[0m\n\u001b[1;32m----> 8\u001b[1;33m \u001b[0ma\u001b[0m \u001b[1;33m<\u001b[0m \u001b[0mb\u001b[0m\u001b[1;33m\u001b[0m\u001b[1;33m\u001b[0m\u001b[0m\n\u001b[0m",
      "\u001b[1;31mTypeError\u001b[0m: '<' not supported between instances of 'Item0' and 'Item0'"
     ],
     "output_type": "error"
    }
   ],
   "source": [
    "#index变量的作用是保证同等优先级元素的正确排序。 通过保存一个不断增加的index下标变量， 可以确保\n",
    "#元素安装它们插入的顺序排序。 而且， index变量也在相同优先级元素比较的时候起到重要作用。\n",
    "a = (1, Item0('foo'))\n",
    "b = (2, Item0('bar'))\n",
    "print(a < b) \n",
    "a = (1, Item0('foo'))\n",
    "b = (1, Item0('bar'))\n",
    "a < b\n"
   ]
  },
  {
   "cell_type": "code",
   "execution_count": 55,
   "metadata": {},
   "outputs": [
    {
     "data": {
      "text/plain": [
       "True"
      ]
     },
     "execution_count": 55,
     "metadata": {},
     "output_type": "execute_result"
    }
   ],
   "source": [
    "a = (1, 0,Item0('foo'))\n",
    "b = (1, 1,Item0('bar'))\n",
    "a < b"
   ]
  },
  {
   "cell_type": "markdown",
   "metadata": {},
   "source": [
    "#1.6字典中的键映射多个值"
   ]
  },
  {
   "cell_type": "code",
   "execution_count": 1,
   "metadata": {},
   "outputs": [
    {
     "data": {
      "text/plain": [
       "defaultdict(list, {'a': [1, 2], 'b': [4]})"
      ]
     },
     "execution_count": 1,
     "metadata": {},
     "output_type": "execute_result"
    }
   ],
   "source": [
    "from collections import defaultdict\n",
    "#defaultdict会自动为将要访问的键(即使目前字典并不存在这样的key)创建映射实体，如果不需要可以使用setdefault\n",
    "d = defaultdict(list)\n",
    "d['a'].append(1)\n",
    "d['a'].append(2)\n",
    "d['b'].append(4)\n",
    "d"
   ]
  },
  {
   "cell_type": "code",
   "execution_count": 2,
   "metadata": {},
   "outputs": [
    {
     "data": {
      "text/plain": [
       "{'a': [1, 2], 'b': [1]}"
      ]
     },
     "execution_count": 2,
     "metadata": {},
     "output_type": "execute_result"
    }
   ],
   "source": [
    "d = {} \n",
    "d.setdefault('a',[]).append(1)\n",
    "d.setdefault('a',[]).append(2)\n",
    "d.setdefault('b',[]).append(1)\n",
    "d"
   ]
  },
  {
   "cell_type": "code",
   "execution_count": 9,
   "metadata": {},
   "outputs": [
    {
     "data": {
      "text/plain": [
       "defaultdict(list, {'a': [1, 1], 'b': [1]})"
      ]
     },
     "execution_count": 9,
     "metadata": {},
     "output_type": "execute_result"
    }
   ],
   "source": [
    "#创建多值映射字典我们可以\n",
    "pairs = [('a',1), ('a',1), ('b',1)]\n",
    "d = defaultdict(list)\n",
    "#我们自己写可能这样\n",
    "# for k, v in pairs:\n",
    "#     if k not in d:\n",
    "#         d[k] = []      #创建这个键的列表\n",
    "#         d[k].append(v) #将值存入这个键的列表\n",
    "#使用collections更简洁\n",
    "for key, value in pairs:\n",
    "    d[key].append(value)\n",
    "d"
   ]
  },
  {
   "cell_type": "markdown",
   "metadata": {},
   "source": [
    "#1.7字典排序"
   ]
  },
  {
   "cell_type": "code",
   "execution_count": 24,
   "metadata": {},
   "outputs": [
    {
     "name": "stdout",
     "output_type": "stream",
     "text": [
      "foo 1\nbar 2\nspam 3\ngrok 4\n"
     ]
    }
   ],
   "source": [
    "from collections import OrderedDict\n",
    "#OrderedDict会保持元素被插入时的顺序\n",
    "def ordered_dict():\n",
    "    d = OrderedDict()\n",
    "    d['foo'] = 1\n",
    "    d['bar'] = 2\n",
    "    d['spam'] = 3\n",
    "    d['grok'] = 4\n",
    "    # 输出\n",
    "\n",
    "    for key in d:\n",
    "        print(key, d[key])\n",
    "        #print(('{!r}, {!r}').format(key, d[key])) #format前面的引用要加{}\n",
    "        #print(('%r, %r') % (key, d[key]))\n",
    "    return d\n",
    "x = ordered_dict()"
   ]
  },
  {
   "cell_type": "code",
   "execution_count": 25,
   "metadata": {},
   "outputs": [
    {
     "data": {
      "text/plain": [
       "'{\"foo\": 1, \"bar\": 2, \"spam\": 3, \"grok\": 4}'"
      ]
     },
     "execution_count": 25,
     "metadata": {},
     "output_type": "execute_result"
    }
   ],
   "source": [
    "#当我们需要控制以json编码后字段的顺序我们可以使用OrderedDict来构建字典\n",
    "import json\n",
    "json.dumps(x)\n"
   ]
  },
  {
   "cell_type": "markdown",
   "metadata": {},
   "source": [
    "#1.8字典的运算"
   ]
  },
  {
   "cell_type": "code",
   "execution_count": 26,
   "metadata": {},
   "outputs": [],
   "source": [
    "#如何在字典中进行计算操作（最小值，最大值，排序等等）\n",
    "prices = {\n",
    "'ACME': 45.23,\n",
    "'AAPL': 612.78,\n",
    "'IBM': 205.55,\n",
    "'HPQ': 37.20,\n",
    "'FB': 10.75\n",
    "}"
   ]
  },
  {
   "cell_type": "code",
   "execution_count": 30,
   "metadata": {},
   "outputs": [
    {
     "name": "stdout",
     "output_type": "stream",
     "text": [
      "(10.75, 'FB')\n(612.78, 'AAPL')\n"
     ]
    }
   ],
   "source": [
    "#进行计算操作时，通常需要使用zip()函数先将键和值反转过来,否则无法比较\n",
    "min_price = min(zip(prices.values(), prices.keys()))\n",
    "max_price = max(zip(prices.values(), prices.keys()))\n",
    "print(min_price)\n",
    "print(max_price)"
   ]
  },
  {
   "cell_type": "code",
   "execution_count": 31,
   "metadata": {},
   "outputs": [
    {
     "data": {
      "text/plain": [
       "[(10.75, 'FB'),\n (37.2, 'HPQ'),\n (45.23, 'ACME'),\n (205.55, 'IBM'),\n (612.78, 'AAPL')]"
      ]
     },
     "execution_count": 31,
     "metadata": {},
     "output_type": "execute_result"
    }
   ],
   "source": [
    "#类似地使用zip()进行排序\n",
    "prices_sorted = sorted(zip(prices.values(), prices.keys()))\n",
    "prices_sorted\n",
    "\n"
   ]
  },
  {
   "cell_type": "code",
   "execution_count": 32,
   "metadata": {},
   "outputs": [
    {
     "ename": "AttributeError",
     "evalue": "'dict' object has no attribute 'key'",
     "traceback": [
      "\u001b[1;31m---------------------------------------------------------------------------\u001b[0m",
      "\u001b[1;31mAttributeError\u001b[0m                            Traceback (most recent call last)",
      "\u001b[1;32m<ipython-input-32-cfcc1babbb2e>\u001b[0m in \u001b[0;36m<module>\u001b[1;34m\u001b[0m\n\u001b[1;32m----> 1\u001b[1;33m \u001b[0mprices_and_names\u001b[0m \u001b[1;33m=\u001b[0m \u001b[0mzip\u001b[0m\u001b[1;33m(\u001b[0m\u001b[0mprices\u001b[0m\u001b[1;33m.\u001b[0m\u001b[0mvalues\u001b[0m\u001b[1;33m(\u001b[0m\u001b[1;33m)\u001b[0m\u001b[1;33m,\u001b[0m \u001b[0mprices\u001b[0m\u001b[1;33m.\u001b[0m\u001b[0mkey\u001b[0m\u001b[1;33m(\u001b[0m\u001b[1;33m)\u001b[0m\u001b[1;33m)\u001b[0m\u001b[1;33m\u001b[0m\u001b[1;33m\u001b[0m\u001b[0m\n\u001b[0m\u001b[0;32m      2\u001b[0m \u001b[0mprint\u001b[0m\u001b[1;33m(\u001b[0m\u001b[0mmin\u001b[0m\u001b[1;33m(\u001b[0m\u001b[0mprices_and_names\u001b[0m\u001b[1;33m)\u001b[0m\u001b[1;33m)\u001b[0m\u001b[1;33m\u001b[0m\u001b[1;33m\u001b[0m\u001b[0m\n\u001b[0;32m      3\u001b[0m \u001b[0mprint\u001b[0m\u001b[1;33m(\u001b[0m\u001b[0mmax\u001b[0m\u001b[1;33m(\u001b[0m\u001b[0mprices_and_names\u001b[0m\u001b[1;33m)\u001b[0m\u001b[1;33m)\u001b[0m\u001b[1;33m\u001b[0m\u001b[1;33m\u001b[0m\u001b[0m\n",
      "\u001b[1;31mAttributeError\u001b[0m: 'dict' object has no attribute 'key'"
     ],
     "output_type": "error"
    }
   ],
   "source": [
    "# 注意zip()函数创建的是一个只能访问一次的迭代器，即zip要放在函数内操作而不能进行变量赋值\n",
    "prices_and_names = zip(prices.values(), prices.key())\n",
    "print(min(prices_and_names))\n",
    "print(max(prices_and_names))\n"
   ]
  },
  {
   "cell_type": "code",
   "execution_count": 38,
   "metadata": {},
   "outputs": [
    {
     "name": "stdout",
     "output_type": "stream",
     "text": [
      "10.75\n612.78\nFB 10.75\nAAPL 612.78\n"
     ]
    }
   ],
   "source": [
    "#直接使用min和max查找最小值value无法同时看到key值\n",
    "print(min(prices.values()))\n",
    "print(max(prices.values()))\n",
    "\n",
    "#如果不使用zip，我们可以使用lambda闭包来获取最值的key，再使用查找字典来获取最值\n",
    "print(min(prices, key=lambda x: prices[x]), prices[min(prices, key=lambda x: prices[x])])\n",
    "print(max(prices, key=lambda x: prices[x]), prices[max(prices, key=lambda x: prices[x])])\n"
   ]
  },
  {
   "cell_type": "markdown",
   "metadata": {},
   "source": [
    "#1.9查找两字典的相同点"
   ]
  },
  {
   "cell_type": "code",
   "execution_count": 39,
   "metadata": {},
   "outputs": [],
   "source": [
    "a = {\n",
    "'x' : 1,\n",
    "'y' : 2,\n",
    "'z' : 3\n",
    "} \n",
    "b = {\n",
    "'w' : 10,\n",
    "'x' : 11,\n",
    "'y' : 2\n",
    "}"
   ]
  },
  {
   "cell_type": "code",
   "execution_count": 40,
   "metadata": {},
   "outputs": [
    {
     "name": "stdout",
     "output_type": "stream",
     "text": [
      "{'x', 'y'}\n{'z'}\n{('y', 2)}\n"
     ]
    }
   ],
   "source": [
    "#直接在keys()或items()上进行集合操作\n",
    "# &是两者都有的内容，-是前者有后者没有的内容\n",
    "print(a.keys() & b.keys())\n",
    "print(a.keys() - b.keys())\n",
    "print(a.items() & b.items())\n"
   ]
  },
  {
   "cell_type": "code",
   "execution_count": 41,
   "metadata": {},
   "outputs": [
    {
     "data": {
      "text/plain": [
       "{'x': 1, 'y': 2}"
      ]
     },
     "execution_count": 41,
     "metadata": {},
     "output_type": "execute_result"
    }
   ],
   "source": [
    "#过滤字典元素\n",
    "c = {k: a[k] for k in a.keys() - {'z', 'w'}}\n",
    "c\n",
    "#如果你硬要在值上面执行这些集合操作的话， 可以先将值集合转换成set去重， 然后再执行集合运算"
   ]
  },
  {
   "cell_type": "markdown",
   "metadata": {},
   "source": [
    "#1.10删除序列相同元素并保持顺序"
   ]
  },
  {
   "cell_type": "code",
   "execution_count": null,
   "metadata": {},
   "outputs": [],
   "source": []
  },
  {
   "cell_type": "code",
   "execution_count": null,
   "metadata": {},
   "outputs": [],
   "source": []
  },
  {
   "cell_type": "code",
   "execution_count": null,
   "metadata": {},
   "outputs": [],
   "source": []
  },
  {
   "cell_type": "code",
   "execution_count": null,
   "metadata": {},
   "outputs": [],
   "source": []
  },
  {
   "cell_type": "code",
   "execution_count": null,
   "metadata": {},
   "outputs": [],
   "source": []
  },
  {
   "cell_type": "code",
   "execution_count": null,
   "metadata": {},
   "outputs": [],
   "source": []
  },
  {
   "cell_type": "code",
   "execution_count": null,
   "metadata": {},
   "outputs": [],
   "source": []
  },
  {
   "cell_type": "code",
   "execution_count": null,
   "metadata": {},
   "outputs": [],
   "source": []
  },
  {
   "cell_type": "code",
   "execution_count": null,
   "metadata": {},
   "outputs": [],
   "source": []
  }
 ],
 "metadata": {
  "kernelspec": {
   "display_name": "Python 2",
   "language": "python",
   "name": "python2"
  },
  "language_info": {
   "codemirror_mode": {
    "name": "ipython",
    "version": 2
   },
   "file_extension": ".py",
   "mimetype": "text/x-python",
   "name": "python",
   "nbconvert_exporter": "python",
   "pygments_lexer": "ipython2",
   "version": "2.7.6"
  }
 },
 "nbformat": 4,
 "nbformat_minor": 0
}
