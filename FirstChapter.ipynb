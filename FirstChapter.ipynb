{
 "cells": [
  {
   "cell_type": "markdown",
   "metadata": {},
   "source": [
    "# 1.1解压序列赋值给多个变量"
   ]
  },
  {
   "cell_type": "code",
   "execution_count": 6,
   "metadata": {
    "collapsed": true
   },
   "outputs": [
    {
     "data": {
      "text/plain": [
       "4"
      ]
     },
     "execution_count": 6,
     "metadata": {},
     "output_type": "execute_result"
    }
   ],
   "source": [
    "p = (4,5)\n",
    "x, y = p\n",
    "x\n"
   ]
  },
  {
   "cell_type": "code",
   "execution_count": 7,
   "metadata": {
    "collapsed": true
   },
   "outputs": [
    {
     "data": {
      "text/plain": [
       "5"
      ]
     },
     "execution_count": 7,
     "metadata": {},
     "output_type": "execute_result"
    }
   ],
   "source": [
    "y"
   ]
  },
  {
   "cell_type": "code",
   "execution_count": 8,
   "metadata": {
    "collapsed": true
   },
   "outputs": [
    {
     "data": {
      "text/plain": [
       "'ACME'"
      ]
     },
     "execution_count": 8,
     "metadata": {},
     "output_type": "execute_result"
    }
   ],
   "source": [
    "data = ['ACME', 50, 91.1, (2012, 12, 21)]\n",
    "name, shares, price, date = data\n",
    "name"
   ]
  },
  {
   "cell_type": "code",
   "execution_count": 9,
   "metadata": {
    "collapsed": true
   },
   "outputs": [
    {
     "data": {
      "text/plain": [
       "50"
      ]
     },
     "execution_count": 9,
     "metadata": {},
     "output_type": "execute_result"
    }
   ],
   "source": [
    "shares"
   ]
  },
  {
   "cell_type": "code",
   "execution_count": 11,
   "metadata": {},
   "outputs": [
    {
     "data": {
      "text/plain": [
       "(2012, 12, 21)"
      ]
     },
     "execution_count": 11,
     "metadata": {},
     "output_type": "execute_result"
    }
   ],
   "source": [
    "date"
   ]
  },
  {
   "cell_type": "code",
   "execution_count": 15,
   "metadata": {},
   "outputs": [
    {
     "data": {
      "text/plain": [
       "2012"
      ]
     },
     "execution_count": 15,
     "metadata": {},
     "output_type": "execute_result"
    }
   ],
   "source": [
    "[year, mon, day] = date #[]换成元组()也可以，两者都是序列且()不可变\n",
    "year"
   ]
  },
  {
   "cell_type": "code",
   "execution_count": 16,
   "metadata": {},
   "outputs": [
    {
     "data": {
      "text/plain": [
       "'H'"
      ]
     },
     "execution_count": 16,
     "metadata": {},
     "output_type": "execute_result"
    }
   ],
   "source": [
    "s = 'Hello' #字符串也可以进行序列赋值\n",
    "a, b, c, d, e = s\n",
    "a"
   ]
  },
  {
   "cell_type": "code",
   "execution_count": 19,
   "metadata": {},
   "outputs": [
    {
     "data": {
      "text/plain": [
       "50"
      ]
     },
     "execution_count": 19,
     "metadata": {},
     "output_type": "execute_result"
    }
   ],
   "source": [
    "#有时想只解压一部分，可以采用任意变量名去占位然后丢弃即可\n",
    "data = ['ACME', 50, 91.1]\n",
    "_, shares, _ = data\n",
    "shares\n"
   ]
  },
  {
   "cell_type": "markdown",
   "metadata": {},
   "source": [
    "# 1.2解压可迭代对象赋值给多个变量"
   ]
  },
  {
   "cell_type": "code",
   "execution_count": 4,
   "metadata": {
    "collapsed": false
   },
   "outputs": [
    {
     "data": {
      "text/plain": [
       "20.0"
      ]
     },
     "execution_count": 4,
     "metadata": {},
     "output_type": "execute_result"
    }
   ],
   "source": [
    "# 使用*号表达式自动将中间部分归为一个list,同时去除最高分和最低分\n",
    "def drop_first_last(grades):\n",
    "    grades.sort()\n",
    "    first, *middle, last = grades\n",
    " \n",
    "    return sum(middle) / len(middle)\n",
    "    \n",
    "drop_first_last([25,20,20,20,15])\n",
    "    \n",
    "    "
   ]
  },
  {
   "cell_type": "code",
   "execution_count": 5,
   "metadata": {},
   "outputs": [
    {
     "data": {
      "text/plain": [
       "['123124', '67689']"
      ]
     },
     "execution_count": 5,
     "metadata": {},
     "output_type": "execute_result"
    }
   ],
   "source": [
    "# 另一种情况，存储倒数任意组数据。同理也可存储列表开始部分数据\n",
    "record = ['Dave', 'dave@bupt.edu.cn', '123124', '67689']\n",
    "name , email, *phone = record\n",
    "phone"
   ]
  },
  {
   "cell_type": "code",
   "execution_count": 8,
   "metadata": {},
   "outputs": [
    {
     "name": "stdout",
     "output_type": "stream",
     "text": [
      "foo 1 2\nbar hello hi\nfoo 9 3\n"
     ]
    }
   ],
   "source": [
    "# *用于可变长元组序列\n",
    "records = [\n",
    "    ('foo',1,2),\n",
    "    ('bar','hello','hi'),\n",
    "    ('foo',9,3)]\n",
    "\n",
    "def do_foo(x,y):\n",
    "    print('foo', x, y)\n",
    "\n",
    "def do_bar(x,y):\n",
    "    print('bar', x, y)\n",
    "    \n",
    "for tag, *args in records:\n",
    "    do_foo(*args) if tag == 'foo' else do_bar(*args)"
   ]
  },
  {
   "cell_type": "code",
   "execution_count": 10,
   "metadata": {},
   "outputs": [
    {
     "name": "stdout",
     "output_type": "stream",
     "text": [
      "nobody \n /var/empty \n /usr/bin/false\n"
     ]
    }
   ],
   "source": [
    "# *可用于字符串\n",
    "line = 'nobody:*:-2:-2:Unprivileged User:/var/empty:/usr/bin/false'\n",
    "uname, *_, homedir, sh = line.split(':')\n",
    "print(uname, '\\n', homedir, '\\n', sh)"
   ]
  },
  {
   "cell_type": "markdown",
   "metadata": {},
   "source": [
    "# 1.3保留最后N个元素"
   ]
  },
  {
   "cell_type": "code",
   "execution_count": 1,
   "metadata": {},
   "outputs": [],
   "source": [
    "#在多行上面做简单的文本匹配。并只返回在前N行中匹配成功的行\n",
    "from collections import deque\n",
    "\n",
    "def search(lines, pattern, history = 5):\n",
    "    previous_lines = deque(maxlen = history)\n",
    "    for li in lines:\n",
    "        if pattern in li:\n",
    "            yield li, previous_lines\n",
    "        previous_lines.append(li)\n",
    "\n",
    "# # Example use on a file\n",
    "# if __name__ == '__main__':\n",
    "#     with open('README.md') as f:\n",
    "#        for line, prevlines in search(f, 'python', 5):\n",
    "#            for pline in prevlines:\n",
    "#                print(pline, end='')\n",
    "#             print(line, end='')\n",
    "#             print('-' * 20)\n",
    "    \n",
    "\n"
   ]
  },
  {
   "cell_type": "code",
   "execution_count": 6,
   "metadata": {},
   "outputs": [
    {
     "data": {
      "text/plain": [
       "deque([1, 2, 3])"
      ]
     },
     "execution_count": 6,
     "metadata": {},
     "output_type": "execute_result"
    }
   ],
   "source": [
    "#deque是队列，先进先出\n",
    "q = deque(maxlen=3)\n",
    "q.append(1)\n",
    "q.append(2)\n",
    "q.append(3)\n",
    "q"
   ]
  },
  {
   "cell_type": "code",
   "execution_count": 7,
   "metadata": {},
   "outputs": [
    {
     "data": {
      "text/plain": [
       "deque([2, 3, 4])"
      ]
     },
     "execution_count": 7,
     "metadata": {},
     "output_type": "execute_result"
    }
   ],
   "source": [
    "q.append(4)\n",
    "q"
   ]
  },
  {
   "cell_type": "code",
   "execution_count": 14,
   "metadata": {},
   "outputs": [
    {
     "data": {
      "text/plain": [
       "deque([1, 2, 3])"
      ]
     },
     "execution_count": 14,
     "metadata": {},
     "output_type": "execute_result"
    }
   ],
   "source": [
    "#不设置最大长度时，得到的是一个无限大小队列\n",
    "q = deque()\n",
    "q.append(1)\n",
    "q.append(2)\n",
    "q.append(3)\n",
    "q"
   ]
  },
  {
   "cell_type": "code",
   "execution_count": 15,
   "metadata": {},
   "outputs": [
    {
     "data": {
      "text/plain": [
       "deque([4, 1, 2, 3])"
      ]
     },
     "execution_count": 15,
     "metadata": {},
     "output_type": "execute_result"
    }
   ],
   "source": [
    "q.appendleft(4)\n",
    "q"
   ]
  },
  {
   "cell_type": "code",
   "execution_count": 16,
   "metadata": {},
   "outputs": [
    {
     "data": {
      "text/plain": [
       "3"
      ]
     },
     "execution_count": 16,
     "metadata": {},
     "output_type": "execute_result"
    }
   ],
   "source": [
    "q.pop()"
   ]
  },
  {
   "cell_type": "code",
   "execution_count": 17,
   "metadata": {},
   "outputs": [
    {
     "data": {
      "text/plain": [
       "deque([4, 1, 2])"
      ]
     },
     "execution_count": 17,
     "metadata": {},
     "output_type": "execute_result"
    }
   ],
   "source": [
    "q"
   ]
  },
  {
   "cell_type": "code",
   "execution_count": 18,
   "metadata": {},
   "outputs": [
    {
     "data": {
      "text/plain": [
       "4"
      ]
     },
     "execution_count": 18,
     "metadata": {},
     "output_type": "execute_result"
    }
   ],
   "source": [
    "#在队列两端插入或删除元素时间复杂度都是O(1)，而在列表的开头插入或删除元素的时间复杂度为O(N)\n",
    "q.popleft()"
   ]
  },
  {
   "cell_type": "markdown",
   "metadata": {},
   "source": [
    "# 1.4查找最大或最小的N个元素"
   ]
  },
  {
   "cell_type": "code",
   "execution_count": 29,
   "metadata": {},
   "outputs": [
    {
     "name": "stdout",
     "output_type": "stream",
     "text": [
      "[42, 32, 23]\n[-4, 1, 2]\n"
     ]
    }
   ],
   "source": [
    "#使用heapq模块的两个函数解决这个问题\n",
    "import heapq\n",
    "nums = [1, 8, 2, 23, 7, -4, 42, 2 ,32]\n",
    "print(heapq.nlargest(3, nums))\n",
    "print(heapq.nsmallest(3,nums))"
   ]
  },
  {
   "cell_type": "code",
   "execution_count": 23,
   "metadata": {},
   "outputs": [
    {
     "name": "stdout",
     "output_type": "stream",
     "text": [
      "[{'name': 'YHOO', 'shares': 45, 'price': 16.35}, {'name': 'FB', 'shares': 200, 'price': 21.09}, {'name': 'HPQ', 'shares': 35, 'price': 31.75}]\n[{'name': 'AAPL', 'shares': 50, 'price': 543.22}, {'name': 'ACME', 'shares': 75, 'price': 115.65}, {'name': 'IBM', 'shares': 100, 'price': 91.1}]\n"
     ]
    }
   ],
   "source": [
    "portfolio = [\n",
    "{'name': 'IBM', 'shares': 100, 'price': 91.1},\n",
    "{'name': 'AAPL', 'shares': 50, 'price': 543.22},\n",
    "{'name': 'FB', 'shares': 200, 'price': 21.09},\n",
    "{'name': 'HPQ', 'shares': 35, 'price': 31.75},\n",
    "{'name': 'YHOO', 'shares': 45, 'price': 16.35},\n",
    "{'name': 'ACME', 'shares': 75, 'price': 115.65}\n",
    "]\n",
    "#用于更复杂的数据结构中，使用关键字参数\n",
    "cheap = heapq.nsmallest(3, portfolio, key=lambda x: x['price'])\n",
    "expensive = heapq.nlargest(3, portfolio, key=lambda x: x['price'])\n",
    "print(cheap)\n",
    "print(expensive)"
   ]
  },
  {
   "cell_type": "code",
   "execution_count": 30,
   "metadata": {},
   "outputs": [
    {
     "name": "stdout",
     "output_type": "stream",
     "text": [
      "[-4, 2, 1, 8, 7, 2, 42, 23, 32]\n-4\n1\n2\n"
     ]
    }
   ],
   "source": [
    "heapq.heapify(nums)\n",
    "print(nums)\n",
    "#堆的特征是heap[0]永远是最小的元素，剩余元素可以从小到大用heappop()依次取出\n",
    "for i in range(0,3):\n",
    "    print(heapq.heappop(nums))"
   ]
  },
  {
   "cell_type": "markdown",
   "metadata": {},
   "source": [
    "#1.5实现一个优先级队列"
   ]
  },
  {
   "cell_type": "code",
   "execution_count": 18,
   "metadata": {},
   "outputs": [],
   "source": [
    "import heapq\n",
    "class PriorityQueue():\n",
    "    def __init__(self):\n",
    "        self._queue = []\n",
    "        self._index = 0\n",
    "    def push(self, item, priority):\n",
    "        #优先级取负数，这样优先级最大的值会位于最前列，heappop时先取出第一个数\n",
    "        heapq.heappush(self._queue, (-priority, self._index, item))\n",
    "        self._index += 1\n",
    "    def pop(self):\n",
    "        #[-1]表示元组中的最后一位，即name值\n",
    "        return heapq.heappop(self._queue)[-1]\n",
    "\n",
    "class Item0():\n",
    "    def __init__(self, name):\n",
    "        self.name = name\n",
    "    def __repr__(self):\n",
    "        #自定义输出实例化对象时的信息\n",
    "        #下文pop的内容即为Item0('XXX'),因此输出自定义的字符串\n",
    "        #return 'Item({!r})'.format(self.name) #这两种方式均可,r和s的区别可以看有道云笔记\n",
    "        #return 'Item({x})'.format(x=self.name) #这样写的话会直接返回字符串内容，不带‘’引号\n",
    "        #return 'Item({})'.format(self.name) #这样写的话会直接返回字符串内容，不带‘’引号\n",
    "        return 'Item({%r%s})'%(self.name,self.name) #r带''因为打印的更详细,s不带''"
   ]
  },
  {
   "cell_type": "code",
   "execution_count": 19,
   "metadata": {},
   "outputs": [
    {
     "data": {
      "text/plain": [
       "Item({'bar'bar})"
      ]
     },
     "execution_count": 19,
     "metadata": {},
     "output_type": "execute_result"
    }
   ],
   "source": [
    "q = PriorityQueue()\n",
    "q.push(Item0('foo'), 1)\n",
    "q.push(Item0('bar'), 5)\n",
    "q.push(Item0('spam'), 4)\n",
    "q.push(Item0('grok'), 1)\n",
    "q.pop()"
   ]
  },
  {
   "cell_type": "code",
   "execution_count": 57,
   "metadata": {},
   "outputs": [
    {
     "name": "stdout",
     "output_type": "stream",
     "text": [
      "True\n"
     ]
    },
    {
     "ename": "TypeError",
     "evalue": "'<' not supported between instances of 'Item0' and 'Item0'",
     "traceback": [
      "\u001b[1;31m---------------------------------------------------------------------------\u001b[0m",
      "\u001b[1;31mTypeError\u001b[0m                                 Traceback (most recent call last)",
      "\u001b[1;32m<ipython-input-57-8e08376b4aba>\u001b[0m in \u001b[0;36m<module>\u001b[1;34m\u001b[0m\n\u001b[0;32m      6\u001b[0m \u001b[0ma\u001b[0m \u001b[1;33m=\u001b[0m \u001b[1;33m(\u001b[0m\u001b[1;36m1\u001b[0m\u001b[1;33m,\u001b[0m \u001b[0mItem0\u001b[0m\u001b[1;33m(\u001b[0m\u001b[1;34m'foo'\u001b[0m\u001b[1;33m)\u001b[0m\u001b[1;33m)\u001b[0m\u001b[1;33m\u001b[0m\u001b[1;33m\u001b[0m\u001b[0m\n\u001b[0;32m      7\u001b[0m \u001b[0mb\u001b[0m \u001b[1;33m=\u001b[0m \u001b[1;33m(\u001b[0m\u001b[1;36m1\u001b[0m\u001b[1;33m,\u001b[0m \u001b[0mItem0\u001b[0m\u001b[1;33m(\u001b[0m\u001b[1;34m'bar'\u001b[0m\u001b[1;33m)\u001b[0m\u001b[1;33m)\u001b[0m\u001b[1;33m\u001b[0m\u001b[1;33m\u001b[0m\u001b[0m\n\u001b[1;32m----> 8\u001b[1;33m \u001b[0ma\u001b[0m \u001b[1;33m<\u001b[0m \u001b[0mb\u001b[0m\u001b[1;33m\u001b[0m\u001b[1;33m\u001b[0m\u001b[0m\n\u001b[0m",
      "\u001b[1;31mTypeError\u001b[0m: '<' not supported between instances of 'Item0' and 'Item0'"
     ],
     "output_type": "error"
    }
   ],
   "source": [
    "#index变量的作用是保证同等优先级元素的正确排序。 通过保存一个不断增加的index下标变量， 可以确保\n",
    "#元素安装它们插入的顺序排序。 而且， index变量也在相同优先级元素比较的时候起到重要作用。\n",
    "a = (1, Item0('foo'))\n",
    "b = (2, Item0('bar'))\n",
    "print(a < b) \n",
    "a = (1, Item0('foo'))\n",
    "b = (1, Item0('bar'))\n",
    "a < b\n"
   ]
  },
  {
   "cell_type": "code",
   "execution_count": 55,
   "metadata": {},
   "outputs": [
    {
     "data": {
      "text/plain": [
       "True"
      ]
     },
     "execution_count": 55,
     "metadata": {},
     "output_type": "execute_result"
    }
   ],
   "source": [
    "a = (1, 0,Item0('foo'))\n",
    "b = (1, 1,Item0('bar'))\n",
    "a < b"
   ]
  },
  {
   "cell_type": "markdown",
   "metadata": {},
   "source": [
    "#1.6字典中的键映射多个值"
   ]
  },
  {
   "cell_type": "code",
   "execution_count": 29,
   "metadata": {},
   "outputs": [
    {
     "data": {
      "text/plain": [
       "defaultdict(list, {'a': [1, 2], 'b': [4]})"
      ]
     },
     "execution_count": 29,
     "metadata": {},
     "output_type": "execute_result"
    }
   ],
   "source": [
    "from collections import defaultdict\n",
    "#defaultdict会自动为将要访问的键(即使目前字典并不存在这样的key)创建映射实体，如果不需要可以使用setdefault\n",
    "d = defaultdict(list)\n",
    "d['a'].append(1)\n",
    "d['a'].append(2)\n",
    "d['b'].append(4)\n",
    "d"
   ]
  },
  {
   "cell_type": "code",
   "execution_count": 2,
   "metadata": {},
   "outputs": [
    {
     "data": {
      "text/plain": [
       "{'a': [1, 2], 'b': [1]}"
      ]
     },
     "execution_count": 2,
     "metadata": {},
     "output_type": "execute_result"
    }
   ],
   "source": [
    "d = {} \n",
    "d.setdefault('a',[]).append(1)\n",
    "d.setdefault('a',[]).append(2)\n",
    "d.setdefault('b',[]).append(1)\n",
    "d"
   ]
  },
  {
   "cell_type": "code",
   "execution_count": 30,
   "metadata": {},
   "outputs": [
    {
     "data": {
      "text/plain": [
       "defaultdict(list, {'a': [1, 1], 'b': [1]})"
      ]
     },
     "execution_count": 30,
     "metadata": {},
     "output_type": "execute_result"
    }
   ],
   "source": [
    "#创建多值映射字典我们可以\n",
    "pairs = [('a',1), ('a',1), ('b',1)]\n",
    "d = defaultdict(list)\n",
    "\n",
    "#我们自己写可能这样\n",
    "# for k, v in pairs:\n",
    "#     if k not in d:\n",
    "#         d[k] = []      #创建这个键的列表\n",
    "#         d[k].append(v) #将值存入这个键的列表\n",
    "#使用collections更简洁\n",
    "for key, value in pairs:\n",
    "    d[key].append(value)\n",
    "d"
   ]
  },
  {
   "cell_type": "markdown",
   "metadata": {},
   "source": [
    "#1.7字典排序"
   ]
  },
  {
   "cell_type": "code",
   "execution_count": 24,
   "metadata": {},
   "outputs": [
    {
     "name": "stdout",
     "output_type": "stream",
     "text": [
      "foo 1\nbar 2\nspam 3\ngrok 4\n"
     ]
    }
   ],
   "source": [
    "from collections import OrderedDict\n",
    "#OrderedDict会保持元素被插入时的顺序\n",
    "def ordered_dict():\n",
    "    d = OrderedDict()\n",
    "    d['foo'] = 1\n",
    "    d['bar'] = 2\n",
    "    d['spam'] = 3\n",
    "    d['grok'] = 4\n",
    "    # 输出\n",
    "\n",
    "    for key in d:\n",
    "        print(key, d[key])\n",
    "        #print(('{!r}, {!r}').format(key, d[key])) #format前面的引用要加{}\n",
    "        #print(('%r, %r') % (key, d[key]))\n",
    "    return d\n",
    "x = ordered_dict()"
   ]
  },
  {
   "cell_type": "code",
   "execution_count": 25,
   "metadata": {},
   "outputs": [
    {
     "data": {
      "text/plain": [
       "'{\"foo\": 1, \"bar\": 2, \"spam\": 3, \"grok\": 4}'"
      ]
     },
     "execution_count": 25,
     "metadata": {},
     "output_type": "execute_result"
    }
   ],
   "source": [
    "#当我们需要控制以json编码后字段的顺序我们可以使用OrderedDict来构建字典\n",
    "import json\n",
    "json.dumps(x)\n"
   ]
  },
  {
   "cell_type": "markdown",
   "metadata": {},
   "source": [
    "#1.8字典的运算"
   ]
  },
  {
   "cell_type": "code",
   "execution_count": 26,
   "metadata": {},
   "outputs": [],
   "source": [
    "#如何在字典中进行计算操作（最小值，最大值，排序等等）\n",
    "prices = {\n",
    "'ACME': 45.23,\n",
    "'AAPL': 612.78,\n",
    "'IBM': 205.55,\n",
    "'HPQ': 37.20,\n",
    "'FB': 10.75\n",
    "}"
   ]
  },
  {
   "cell_type": "code",
   "execution_count": 30,
   "metadata": {},
   "outputs": [
    {
     "name": "stdout",
     "output_type": "stream",
     "text": [
      "(10.75, 'FB')\n(612.78, 'AAPL')\n"
     ]
    }
   ],
   "source": [
    "#进行计算操作时，通常需要使用zip()函数先将键和值反转过来,否则无法比较\n",
    "min_price = min(zip(prices.values(), prices.keys()))\n",
    "max_price = max(zip(prices.values(), prices.keys()))\n",
    "print(min_price)\n",
    "print(max_price)"
   ]
  },
  {
   "cell_type": "code",
   "execution_count": 31,
   "metadata": {},
   "outputs": [
    {
     "data": {
      "text/plain": [
       "[(10.75, 'FB'),\n (37.2, 'HPQ'),\n (45.23, 'ACME'),\n (205.55, 'IBM'),\n (612.78, 'AAPL')]"
      ]
     },
     "execution_count": 31,
     "metadata": {},
     "output_type": "execute_result"
    }
   ],
   "source": [
    "#类似地使用zip()进行排序\n",
    "prices_sorted = sorted(zip(prices.values(), prices.keys()))\n",
    "prices_sorted\n",
    "\n"
   ]
  },
  {
   "cell_type": "code",
   "execution_count": 32,
   "metadata": {},
   "outputs": [
    {
     "ename": "AttributeError",
     "evalue": "'dict' object has no attribute 'key'",
     "traceback": [
      "\u001b[1;31m---------------------------------------------------------------------------\u001b[0m",
      "\u001b[1;31mAttributeError\u001b[0m                            Traceback (most recent call last)",
      "\u001b[1;32m<ipython-input-32-cfcc1babbb2e>\u001b[0m in \u001b[0;36m<module>\u001b[1;34m\u001b[0m\n\u001b[1;32m----> 1\u001b[1;33m \u001b[0mprices_and_names\u001b[0m \u001b[1;33m=\u001b[0m \u001b[0mzip\u001b[0m\u001b[1;33m(\u001b[0m\u001b[0mprices\u001b[0m\u001b[1;33m.\u001b[0m\u001b[0mvalues\u001b[0m\u001b[1;33m(\u001b[0m\u001b[1;33m)\u001b[0m\u001b[1;33m,\u001b[0m \u001b[0mprices\u001b[0m\u001b[1;33m.\u001b[0m\u001b[0mkey\u001b[0m\u001b[1;33m(\u001b[0m\u001b[1;33m)\u001b[0m\u001b[1;33m)\u001b[0m\u001b[1;33m\u001b[0m\u001b[1;33m\u001b[0m\u001b[0m\n\u001b[0m\u001b[0;32m      2\u001b[0m \u001b[0mprint\u001b[0m\u001b[1;33m(\u001b[0m\u001b[0mmin\u001b[0m\u001b[1;33m(\u001b[0m\u001b[0mprices_and_names\u001b[0m\u001b[1;33m)\u001b[0m\u001b[1;33m)\u001b[0m\u001b[1;33m\u001b[0m\u001b[1;33m\u001b[0m\u001b[0m\n\u001b[0;32m      3\u001b[0m \u001b[0mprint\u001b[0m\u001b[1;33m(\u001b[0m\u001b[0mmax\u001b[0m\u001b[1;33m(\u001b[0m\u001b[0mprices_and_names\u001b[0m\u001b[1;33m)\u001b[0m\u001b[1;33m)\u001b[0m\u001b[1;33m\u001b[0m\u001b[1;33m\u001b[0m\u001b[0m\n",
      "\u001b[1;31mAttributeError\u001b[0m: 'dict' object has no attribute 'key'"
     ],
     "output_type": "error"
    }
   ],
   "source": [
    "# 注意zip()函数创建的是一个只能访问一次的迭代器，即zip要放在函数内操作而不能进行变量赋值\n",
    "prices_and_names = zip(prices.values(), prices.key())\n",
    "print(min(prices_and_names))\n",
    "print(max(prices_and_names))\n"
   ]
  },
  {
   "cell_type": "code",
   "execution_count": 38,
   "metadata": {},
   "outputs": [
    {
     "name": "stdout",
     "output_type": "stream",
     "text": [
      "10.75\n612.78\nFB 10.75\nAAPL 612.78\n"
     ]
    }
   ],
   "source": [
    "#直接使用min和max查找最小值value无法同时看到key值\n",
    "print(min(prices.values()))\n",
    "print(max(prices.values()))\n",
    "\n",
    "#如果不使用zip，我们可以使用lambda闭包来获取最值的key，再使用查找字典来获取最值\n",
    "print(min(prices, key=lambda x: prices[x]), prices[min(prices, key=lambda x: prices[x])])\n",
    "print(max(prices, key=lambda x: prices[x]), prices[max(prices, key=lambda x: prices[x])])\n"
   ]
  },
  {
   "cell_type": "markdown",
   "metadata": {},
   "source": [
    "#1.9查找两字典的相同点"
   ]
  },
  {
   "cell_type": "code",
   "execution_count": 39,
   "metadata": {},
   "outputs": [],
   "source": [
    "a = {\n",
    "'x' : 1,\n",
    "'y' : 2,\n",
    "'z' : 3\n",
    "} \n",
    "b = {\n",
    "'w' : 10,\n",
    "'x' : 11,\n",
    "'y' : 2\n",
    "}"
   ]
  },
  {
   "cell_type": "code",
   "execution_count": 40,
   "metadata": {},
   "outputs": [
    {
     "name": "stdout",
     "output_type": "stream",
     "text": [
      "{'x', 'y'}\n{'z'}\n{('y', 2)}\n"
     ]
    }
   ],
   "source": [
    "#直接在keys()或items()上进行集合操作\n",
    "# &是两者都有的内容，-是前者有后者没有的内容\n",
    "print(a.keys() & b.keys())\n",
    "print(a.keys() - b.keys())\n",
    "print(a.items() & b.items())\n"
   ]
  },
  {
   "cell_type": "code",
   "execution_count": 41,
   "metadata": {},
   "outputs": [
    {
     "data": {
      "text/plain": [
       "{'x': 1, 'y': 2}"
      ]
     },
     "execution_count": 41,
     "metadata": {},
     "output_type": "execute_result"
    }
   ],
   "source": [
    "#过滤字典元素\n",
    "c = {k: a[k] for k in a.keys() - {'z', 'w'}}\n",
    "c\n",
    "#如果你硬要在值上面执行这些集合操作的话， 可以先将值集合转换成set去重， 然后再执行集合运算"
   ]
  },
  {
   "cell_type": "markdown",
   "metadata": {},
   "source": [
    "#1.10删除序列相同元素并保持顺序"
   ]
  },
  {
   "cell_type": "code",
   "execution_count": 2,
   "metadata": {},
   "outputs": [
    {
     "data": {
      "text/plain": [
       "[1, 5, 2, 9, 10]"
      ]
     },
     "execution_count": 2,
     "metadata": {},
     "output_type": "execute_result"
    }
   ],
   "source": [
    "def dedupe(items):\n",
    "    seen = set()\n",
    "    for item in items:\n",
    "        if item not in seen:\n",
    "            yield item\n",
    "            #set()用add，list()用append\n",
    "            seen.add(item)\n",
    "\n",
    "a = [1, 5, 2, 1, 9, 1, 5, 10]\n",
    "list(deque(a))"
   ]
  },
  {
   "cell_type": "code",
   "execution_count": 13,
   "metadata": {},
   "outputs": [
    {
     "data": {
      "text/plain": [
       "[{'x': 1, 'y': 2}, {'x': 1, 'y': 3}, {'x': 2, 'y': 4}]"
      ]
     },
     "execution_count": 13,
     "metadata": {},
     "output_type": "execute_result"
    }
   ],
   "source": [
    "#上述方法仅在序列元素可哈希化的时候使用，如果想消除元素不可哈希的序列比如dict，需要做修改\n",
    "def dedupe(items, key=None):\n",
    "    seen = set()\n",
    "    for item in items:\n",
    "        #如果key不存在则val = item，若存在则val = key(item)\n",
    "        #key(item)详细解释看下文lambda\n",
    "        val = item if key is None else key(item)\n",
    "        if val not in seen:\n",
    "            yield item\n",
    "            seen.add(val)\n",
    "  \n",
    "# 那句if else写完整是这样子，很累赘，日后不需要这样写代码          \n",
    "# def dedupe(items, key=None):\n",
    "#     seen = set()\n",
    "#     for item in items:\n",
    "#         #如果key不存在则直接用item，若存在则用key替换item\n",
    "#         # val = item if key is None else key(item)\n",
    "#         if key is None:\n",
    "#             val = item\n",
    "#             if val not in seen:\n",
    "#                 yield item\n",
    "#                 seen.add(val)\n",
    "#         else:\n",
    "#             val = key(item)\n",
    "#             print(val)\n",
    "#             if val not in seen:\n",
    "#                 yield item\n",
    "#                 seen.add(val)\n",
    "\n",
    "#lambda匿名函数用法，在末尾加上(输入参数变量)，就可以执行\n",
    "#因此上文函数中的key关键词实际上是一个匿名函数！！\n",
    "#用这个lambda提取出我们需要去重的数据值元组，在进行set比较\n",
    "#print((lambda d: (d['x'],d['y']))(a[0]))\n",
    "\n",
    "\n",
    "a = [ {'x':1, 'y':2}, {'x':1, 'y':3}, {'x':1, 'y':2}, {'x':2, 'y':4}]\n",
    "list(dedupe(a, key=lambda d: (d['x'],d['y'])))\n",
    "\n"
   ]
  },
  {
   "cell_type": "markdown",
   "metadata": {},
   "source": [
    "#1.11命名切片"
   ]
  },
  {
   "cell_type": "code",
   "execution_count": 16,
   "metadata": {},
   "outputs": [
    {
     "name": "stdout",
     "output_type": "stream",
     "text": [
      "012\n123456\n"
     ]
    },
    {
     "data": {
      "text/plain": [
       "1481472.0"
      ]
     },
     "execution_count": 16,
     "metadata": {},
     "output_type": "execute_result"
    }
   ],
   "source": [
    "#硬编码切片下标\n",
    "record = '0123456789012345678901234567890123456789012345678901234567890'\n",
    "SHARES = slice(20, 23)\n",
    "PRICE = slice(31, 37)\n",
    "print(record[SHARES])\n",
    "print(record[PRICE])\n",
    "\n",
    "cost = int(record[SHARES]) * float(record[PRICE])\n",
    "cost"
   ]
  },
  {
   "cell_type": "code",
   "execution_count": 20,
   "metadata": {},
   "outputs": [
    {
     "name": "stdout",
     "output_type": "stream",
     "text": [
      "[0, 1, 10, 11, 4, 5, 6]\n"
     ]
    },
    {
     "data": {
      "text/plain": [
       "[0, 1, 4, 5, 6]"
      ]
     },
     "execution_count": 20,
     "metadata": {},
     "output_type": "execute_result"
    }
   ],
   "source": [
    "items = [0, 1, 2, 3, 4, 5, 6]\n",
    "a = slice(2, 4)\n",
    "\n",
    "items[a] = [10, 11]\n",
    "print(items)\n",
    "del items[a]\n",
    "\n",
    "items"
   ]
  },
  {
   "cell_type": "code",
   "execution_count": 31,
   "metadata": {},
   "outputs": [
    {
     "name": "stdout",
     "output_type": "stream",
     "text": [
      "5\n50\n2\n5 10 2\nW\n5 10 2\nr\n5 10 2\nd\n"
     ]
    },
    {
     "data": {
      "text/plain": [
       "(5, 10, 2)"
      ]
     },
     "execution_count": 31,
     "metadata": {},
     "output_type": "execute_result"
    }
   ],
   "source": [
    "b = slice(5, 50, 2)\n",
    "print(b.start)\n",
    "print(b.stop)\n",
    "print(b.step)\n",
    "\n",
    "\n",
    "s = 'HelloWorld'\n",
    "#使用indices(size)可以自动调整映射范围大小\n",
    "b.indices(len(s))\n",
    "#加*号将tuple类型转化为int 5, 10, 2\n",
    "for i in range(*b.indices(len(s))):\n",
    "    print(*b.indices(len(s)))\n",
    "    print(s[i])\n",
    "b.indices(len(s)) "
   ]
  },
  {
   "cell_type": "markdown",
   "metadata": {},
   "source": [
    "#1.12序列中出现次数最多的元素"
   ]
  },
  {
   "cell_type": "code",
   "execution_count": 42,
   "metadata": {},
   "outputs": [
    {
     "name": "stdout",
     "output_type": "stream",
     "text": [
      "[('eyes', 8), ('the', 5), ('look', 4)]\n"
     ]
    },
    {
     "data": {
      "text/plain": [
       "4"
      ]
     },
     "execution_count": 42,
     "metadata": {},
     "output_type": "execute_result"
    }
   ],
   "source": [
    "from collections import Counter\n",
    "\n",
    "words = [\n",
    "'look', 'into', 'my', 'eyes', 'look', 'into', 'my', 'eyes',\n",
    "'the', 'eyes', 'the', 'eyes', 'the', 'eyes', 'not', 'around', 'the',\n",
    "'eyes', \"don't\", 'look', 'around', 'the', 'eyes', 'look', 'into',\n",
    "'my', 'eyes', \"you're\", 'under'\n",
    "]\n",
    "\n",
    "word_counts = Counter(words)\n",
    "# 出现频率最高的三个单词\n",
    "top_three = word_counts.most_common(3)\n",
    "print(top_three)\n",
    "word_counts['look']"
   ]
  },
  {
   "cell_type": "code",
   "execution_count": 44,
   "metadata": {},
   "outputs": [
    {
     "data": {
      "text/plain": [
       "10"
      ]
     },
     "execution_count": 44,
     "metadata": {},
     "output_type": "execute_result"
    }
   ],
   "source": [
    "# 手动增加计数\n",
    "more_words = ['why','are','you','not','looking','in','my','eyes']\n",
    "for word in more_words:\n",
    "    word_counts[word] += 1\n",
    "word_counts['eyes']"
   ]
  },
  {
   "cell_type": "code",
   "execution_count": 46,
   "metadata": {},
   "outputs": [
    {
     "data": {
      "text/plain": [
       "12"
      ]
     },
     "execution_count": 46,
     "metadata": {},
     "output_type": "execute_result"
    }
   ],
   "source": [
    "# 或者使用update方法，手动增加计数\n",
    "word_counts.update(more_words)\n",
    "word_counts['eyes']\n"
   ]
  },
  {
   "cell_type": "code",
   "execution_count": 49,
   "metadata": {},
   "outputs": [
    {
     "name": "stdout",
     "output_type": "stream",
     "text": [
      "Counter({'eyes': 8, 'the': 5, 'look': 4, 'into': 3, 'my': 3, 'around': 2, 'not': 1, \"don't\": 1, \"you're\": 1, 'under': 1})\nCounter({'why': 1, 'are': 1, 'you': 1, 'not': 1, 'looking': 1, 'in': 1, 'my': 1, 'eyes': 1})\nCounter({'eyes': 9, 'the': 5, 'look': 4, 'my': 4, 'into': 3, 'not': 2, 'around': 2, \"don't\": 1, \"you're\": 1, 'under': 1, 'why': 1, 'are': 1, 'you': 1, 'looking': 1, 'in': 1})\nCounter({'eyes': 7, 'the': 5, 'look': 4, 'into': 3, 'my': 2, 'around': 2, \"don't\": 1, \"you're\": 1, 'under': 1})\n"
     ]
    }
   ],
   "source": [
    "# Counter可以很容易的跟数学运算操作相结合\n",
    "a = Counter(words)\n",
    "b = Counter(more_words)\n",
    "print(a)\n",
    "print(b)\n",
    "\n",
    "# 和运算结合\n",
    "c = a + b\n",
    "print(c)\n",
    "d = a - b\n",
    "print(d)\n",
    "\n"
   ]
  },
  {
   "cell_type": "markdown",
   "metadata": {},
   "source": [
    "#1.13通过某个关键字排序一个字典列表"
   ]
  },
  {
   "cell_type": "code",
   "execution_count": 50,
   "metadata": {},
   "outputs": [
    {
     "name": "stdout",
     "output_type": "stream",
     "text": [
      "[{'fname': 'Big', 'lname': 'Jones', 'uid': 1004}, {'fname': 'Brian', 'lname': 'Jones', 'uid': 1003}, {'fname': 'David', 'lname': 'Beazley', 'uid': 1002}, {'fname': 'John', 'lname': 'Cleese', 'uid': 1001}]\n[{'fname': 'John', 'lname': 'Cleese', 'uid': 1001}, {'fname': 'David', 'lname': 'Beazley', 'uid': 1002}, {'fname': 'Brian', 'lname': 'Jones', 'uid': 1003}, {'fname': 'Big', 'lname': 'Jones', 'uid': 1004}]\n"
     ]
    }
   ],
   "source": [
    "from operator import itemgetter\n",
    "rows = [\n",
    "{'fname': 'Brian', 'lname': 'Jones', 'uid': 1003},\n",
    "{'fname': 'David', 'lname': 'Beazley', 'uid': 1002},\n",
    "{'fname': 'John', 'lname': 'Cleese', 'uid': 1001},\n",
    "{'fname': 'Big', 'lname': 'Jones', 'uid': 1004}\n",
    "]\n",
    "\n",
    "rows_by_fname = sorted(rows, key=itemgetter('fname'))\n",
    "rows_by_uid = sorted(rows, key=itemgetter('uid'))\n",
    "\n",
    "print(rows_by_fname)\n",
    "print(rows_by_uid)\n"
   ]
  },
  {
   "cell_type": "code",
   "execution_count": 51,
   "metadata": {},
   "outputs": [
    {
     "name": "stdout",
     "output_type": "stream",
     "text": [
      "[{'fname': 'David', 'lname': 'Beazley', 'uid': 1002}, {'fname': 'John', 'lname': 'Cleese', 'uid': 1001}, {'fname': 'Big', 'lname': 'Jones', 'uid': 1004}, {'fname': 'Brian', 'lname': 'Jones', 'uid': 1003}]\n"
     ]
    }
   ],
   "source": [
    "rows_by_lfname = sorted(rows, key=itemgetter('lname', 'fname'))\n",
    "print(rows_by_lfname)\n",
    "\n"
   ]
  },
  {
   "cell_type": "code",
   "execution_count": 52,
   "metadata": {},
   "outputs": [
    {
     "name": "stdout",
     "output_type": "stream",
     "text": [
      "[{'fname': 'David', 'lname': 'Beazley', 'uid': 1002}, {'fname': 'John', 'lname': 'Cleese', 'uid': 1001}, {'fname': 'Big', 'lname': 'Jones', 'uid': 1004}, {'fname': 'Brian', 'lname': 'Jones', 'uid': 1003}]\n"
     ]
    },
    {
     "ename": "TypeError",
     "evalue": "list indices must be integers or slices, not str",
     "traceback": [
      "\u001b[1;31m---------------------------------------------------------------------------\u001b[0m",
      "\u001b[1;31mTypeError\u001b[0m                                 Traceback (most recent call last)",
      "\u001b[1;32m<ipython-input-52-a05510797d04>\u001b[0m in \u001b[0;36m<module>\u001b[1;34m\u001b[0m\n\u001b[0;32m      2\u001b[0m \u001b[0mrows_by_lfname\u001b[0m \u001b[1;33m=\u001b[0m \u001b[0msorted\u001b[0m\u001b[1;33m(\u001b[0m\u001b[0mrows\u001b[0m\u001b[1;33m,\u001b[0m \u001b[0mkey\u001b[0m\u001b[1;33m=\u001b[0m\u001b[1;32mlambda\u001b[0m \u001b[0mr\u001b[0m\u001b[1;33m:\u001b[0m \u001b[1;33m(\u001b[0m\u001b[0mr\u001b[0m\u001b[1;33m[\u001b[0m\u001b[1;34m'lname'\u001b[0m\u001b[1;33m]\u001b[0m\u001b[1;33m,\u001b[0m\u001b[0mr\u001b[0m\u001b[1;33m[\u001b[0m\u001b[1;34m'fname'\u001b[0m\u001b[1;33m]\u001b[0m\u001b[1;33m)\u001b[0m\u001b[1;33m)\u001b[0m\u001b[1;33m\u001b[0m\u001b[1;33m\u001b[0m\u001b[0m\n\u001b[0;32m      3\u001b[0m \u001b[0mprint\u001b[0m\u001b[1;33m(\u001b[0m\u001b[0mrows_by_lfname\u001b[0m\u001b[1;33m)\u001b[0m\u001b[1;33m\u001b[0m\u001b[1;33m\u001b[0m\u001b[0m\n\u001b[1;32m----> 4\u001b[1;33m \u001b[0mrows_by_lfname\u001b[0m \u001b[1;33m=\u001b[0m \u001b[0msorted\u001b[0m\u001b[1;33m(\u001b[0m\u001b[0mrows\u001b[0m\u001b[1;33m,\u001b[0m \u001b[0mkey\u001b[0m\u001b[1;33m=\u001b[0m\u001b[0mrows\u001b[0m\u001b[1;33m[\u001b[0m\u001b[1;34m'lname'\u001b[0m\u001b[1;33m]\u001b[0m\u001b[1;33m)\u001b[0m\u001b[1;33m\u001b[0m\u001b[1;33m\u001b[0m\u001b[0m\n\u001b[0m\u001b[0;32m      5\u001b[0m \u001b[0mprint\u001b[0m\u001b[1;33m(\u001b[0m\u001b[0mrows_by_lfname\u001b[0m\u001b[1;33m)\u001b[0m\u001b[1;33m\u001b[0m\u001b[1;33m\u001b[0m\u001b[0m\n",
      "\u001b[1;31mTypeError\u001b[0m: list indices must be integers or slices, not str"
     ],
     "output_type": "error"
    }
   ],
   "source": [
    "# itemgetter()有时候可以用lambda表达式代替\n",
    "rows_by_lfname = sorted(rows, key=lambda r: (r['lname'],r['fname']))\n",
    "print(rows_by_lfname)\n",
    "#如下写法必报错\n",
    "# rows_by_lfname = sorted(rows, key=rows['lname'])\n",
    "# print(rows_by_lfname)"
   ]
  },
  {
   "cell_type": "code",
   "execution_count": 55,
   "metadata": {},
   "outputs": [
    {
     "name": "stdout",
     "output_type": "stream",
     "text": [
      "{'fname': 'John', 'lname': 'Cleese', 'uid': 1001}\n{'fname': 'Big', 'lname': 'Jones', 'uid': 1004}\n"
     ]
    }
   ],
   "source": [
    "#itemgetter()稍微快些，但别忘了min，max也适用这个方法\n",
    "print(min(rows, key=itemgetter('uid')))\n",
    "print(max(rows, key=itemgetter('uid')))\n"
   ]
  },
  {
   "cell_type": "markdown",
   "metadata": {},
   "source": [
    "#1.14排序不支持原生比较的对象"
   ]
  },
  {
   "cell_type": "code",
   "execution_count": 21,
   "metadata": {},
   "outputs": [
    {
     "name": "stdout",
     "output_type": "stream",
     "text": [
      "[User(23), User(3), User(99)]\n[User(99), User(23), User(3)]\n"
     ]
    }
   ],
   "source": [
    "from operator import attrgetter\n",
    "class User:\n",
    "    def __init__(self, user_id):\n",
    "        self.user_id = user_id\n",
    "        \n",
    "    def __repr__(self):\n",
    "        return 'User({})'.format(self.user_id)\n",
    "\n",
    "def sort_not_compare():\n",
    "    users = [User(23), User(3), User(99)]\n",
    "    print(users)\n",
    "    print(sorted(users, key=lambda u: u.user_id, reverse=True))\n",
    "    #print(sorted(users, key=attrgetter('user_id') #或者使用attrgetter，与itemgetter类似\n",
    "    \n",
    "sort_not_compare()"
   ]
  },
  {
   "cell_type": "markdown",
   "metadata": {},
   "source": [
    "#1.15通过某个字段将记录分组"
   ]
  },
  {
   "cell_type": "code",
   "execution_count": 44,
   "metadata": {},
   "outputs": [
    {
     "name": "stdout",
     "output_type": "stream",
     "text": [
      "07/01/2012\n  {'address': '5412 N CLARK', 'date': '07/01/2012'}\n  {'address': '4801 N BROADWAY', 'date': '07/01/2012'}\n07/02/2012\n  {'address': '5800 E 58TH', 'date': '07/02/2012'}\n  {'address': '5645 N RAVENSWOOD', 'date': '07/02/2012'}\n  {'address': '1060 W ADDISON', 'date': '07/02/2012'}\n07/03/2012\n  {'address': '2122 N CLARK', 'date': '07/03/2012'}\n07/04/2012\n  {'address': '5148 N CLARK', 'date': '07/04/2012'}\n  {'address': '1039 W GRANVILLE', 'date': '07/04/2012'}\n"
     ]
    }
   ],
   "source": [
    "from operator import itemgetter\n",
    "from itertools import groupby\n",
    "\n",
    "#我们想在按date分组后进行迭代\n",
    "rows = [\n",
    "    {'address': '5412 N CLARK', 'date': '07/01/2012'},\n",
    "    {'address': '5148 N CLARK', 'date': '07/04/2012'},\n",
    "    {'address': '5800 E 58TH', 'date': '07/02/2012'},\n",
    "    {'address': '2122 N CLARK', 'date': '07/03/2012'},\n",
    "    {'address': '5645 N RAVENSWOOD', 'date': '07/02/2012'},\n",
    "    {'address': '1060 W ADDISON', 'date': '07/02/2012'},\n",
    "    {'address': '4801 N BROADWAY', 'date': '07/01/2012'},\n",
    "    {'address': '1039 W GRANVILLE', 'date': '07/04/2012'},\n",
    "]\n",
    "#首先按照date排序\n",
    "#rows.sort(key=itemgetter('date'))\n",
    "rows.sort(key=lambda x: x['date'])\n",
    "#在群组中迭代,前者是分组标志，后者是分组内容\n",
    "#groupby函数扫描整个序列并且查找连续相同值(或者根据指定key函数返回值相同)的元素序列。 在每次迭代的时候， \n",
    "#它会返回一个值和一个迭代器对象， 这个迭代器对象可以生成元素值全部等于上面那个值的组中所有对象\n",
    "\n",
    "#注意一个非常重要的准备步骤是要根据指定的字段将数据排序。 因为 groupby() 仅仅检查连续的元素， 如\n",
    "#果事先并没有排序完成的话， 分组函数将得不到想要的结果。\n",
    "for date, items in groupby(rows, key=itemgetter('date')):\n",
    "    print(date)\n",
    "    for i in items:\n",
    "        print(' ', i)\n"
   ]
  },
  {
   "cell_type": "code",
   "execution_count": 45,
   "metadata": {},
   "outputs": [
    {
     "name": "stdout",
     "output_type": "stream",
     "text": [
      "defaultdict(<class 'list'>, {'07/01/2012': [{'address': '5412 N CLARK'}, {'address': '4801 N BROADWAY'}], '07/02/2012': [{'address': '5800 E 58TH'}, {'address': '5645 N RAVENSWOOD'}, {'address': '1060 W ADDISON'}], '07/03/2012': [{'address': '2122 N CLARK'}], '07/04/2012': [{'address': '5148 N CLARK'}, {'address': '1039 W GRANVILLE'}]})\n"
     ]
    }
   ],
   "source": [
    "#将date字段分组后的内容存到大的数据结构内\n",
    "from collections import defaultdict\n",
    "\n",
    "rows_by_date = defaultdict(list)\n",
    "for row in rows:\n",
    "    date_temp = row['date']\n",
    "    #del row['date'] #这两种删除方法都可以\n",
    "    row.pop('date')\n",
    "    rows_by_date[date_temp].append(row)\n",
    "print(rows_by_date)"
   ]
  },
  {
   "cell_type": "markdown",
   "metadata": {},
   "source": [
    "#1.16过滤序列元素"
   ]
  },
  {
   "cell_type": "code",
   "execution_count": 47,
   "metadata": {},
   "outputs": [
    {
     "name": "stdout",
     "output_type": "stream",
     "text": [
      "[1, 4, 10, 2, 3]\n[-5, -7, -1]\n"
     ]
    }
   ],
   "source": [
    "#利用一些规则从中提出需要的值或者是缩短序列\n",
    "my_list = [1, 4, -5, 10, -7, 2, 3, -1]\n",
    "print([n for n in my_list if n > 0])\n",
    "print([n for n in my_list if n < 0])\n",
    "\n"
   ]
  },
  {
   "cell_type": "code",
   "execution_count": 51,
   "metadata": {},
   "outputs": [
    {
     "name": "stdout",
     "output_type": "stream",
     "text": [
      "<class 'generator'>\n1\n4\n10\n2\n3\n"
     ]
    }
   ],
   "source": [
    "#使用列表推导的一个潜在缺陷就是如果输入非常大的时候会产生一个非常大的结果集， 占用大量内存。 \n",
    "#如果你对内存比较敏感， 那么你可以使用生成器表达式迭代产生过滤的元素\n",
    "pos = (n for n in my_list if n > 0)\n",
    "print(type(pos))\n",
    "\n",
    "for x in pos:\n",
    "    print(x)\n"
   ]
  },
  {
   "cell_type": "code",
   "execution_count": 55,
   "metadata": {},
   "outputs": [
    {
     "name": "stdout",
     "output_type": "stream",
     "text": [
      "['1', '2', '-3', '-', '4', 'N/A', '5']\n"
     ]
    }
   ],
   "source": [
    "#过滤规则复杂时，我们用内建filter()函数\n",
    "values = ['1', '2', '-3', '-', '4', 'N/A', '5']\n",
    "def is_int(val):\n",
    "    try:\n",
    "        x = int(val)\n",
    "        return True\n",
    "    except ValueError:\n",
    "        return False\n",
    "\n",
    "\n",
    "is_vals = list(filter(is_int, values))\n",
    "print(is_vals)\n"
   ]
  },
  {
   "cell_type": "code",
   "execution_count": 56,
   "metadata": {},
   "outputs": [
    {
     "data": {
      "text/plain": [
       "[1.0, 2.0, 3.1622776601683795, 1.4142135623730951, 1.7320508075688772]"
      ]
     },
     "execution_count": 56,
     "metadata": {},
     "output_type": "execute_result"
    }
   ],
   "source": [
    "#列表推导或生成器表达式是过滤数据最简单的方式，甚至还可以操作数据运算\n",
    "import math\n",
    "[math.sqrt(x) for x in my_list if x > 0]\n"
   ]
  },
  {
   "cell_type": "code",
   "execution_count": 59,
   "metadata": {},
   "outputs": [
    {
     "name": "stdout",
     "output_type": "stream",
     "text": [
      "[1, 4, 0, 10, 0, 2, 3, 0]\n"
     ]
    }
   ],
   "source": [
    "#将不符合的值用新值代替\n",
    "clip_neg = [n if n > 0 else 0 for n in my_list]\n",
    "print(clip_neg)\n"
   ]
  },
  {
   "cell_type": "code",
   "execution_count": 60,
   "metadata": {},
   "outputs": [],
   "source": [
    "addresses = [\n",
    "'5412 N CLARK',\n",
    "'5148 N CLARK',\n",
    "'5800 E 58TH',\n",
    "'2122 N CLARK'\n",
    "'5645 N RAVENSWOOD',\n",
    "'1060 W ADDISON',\n",
    "'4801 N BROADWAY',\n",
    "'1039 W GRANVILLE',\n",
    "]\n",
    "counts = [ 0, 3, 10, 4, 1, 7, 6, 1]\n"
   ]
  },
  {
   "cell_type": "code",
   "execution_count": 62,
   "metadata": {},
   "outputs": [
    {
     "name": "stdout",
     "output_type": "stream",
     "text": [
      "[False, False, True, False, False, True, True, False]\n"
     ]
    },
    {
     "data": {
      "text/plain": [
       "['5800 E 58TH', '4801 N BROADWAY', '1039 W GRANVILLE']"
      ]
     },
     "execution_count": 62,
     "metadata": {},
     "output_type": "execute_result"
    }
   ],
   "source": [
    "#过滤工具itertools.compress()\n",
    "from itertools import compress\n",
    "more5 = [n > 5 for n in counts]\n",
    "print(more5)\n",
    "list(compress(addresses, more5))\n",
    "\n"
   ]
  },
  {
   "cell_type": "markdown",
   "metadata": {},
   "source": [
    "#1.17从字典中提取子集"
   ]
  },
  {
   "cell_type": "code",
   "execution_count": 3,
   "metadata": {},
   "outputs": [
    {
     "name": "stdout",
     "output_type": "stream",
     "text": [
      "{'AAPL': 612.78, 'IBM': 205.55}\n{'AAPL': 612.78, 'IBM': 205.55, 'HPQ': 37.2}\n"
     ]
    }
   ],
   "source": [
    "prices = {\n",
    "'ACME': 45.23,\n",
    "'AAPL': 612.78,\n",
    "'IBM': 205.55,\n",
    "'HPQ': 37.20,\n",
    "'FB': 10.75\n",
    "}\n",
    "p1 = {key: value for key, value in prices.items() if value > 200}\n",
    "print(p1)\n",
    "tech_names = {'AAPL', 'IBM', 'HPQ', 'MSFT'}\n",
    "p2 = {key: value for key, value in prices.items() if key in tech_names}\n",
    "print(p2)\n"
   ]
  },
  {
   "cell_type": "code",
   "execution_count": 4,
   "metadata": {},
   "outputs": [
    {
     "data": {
      "text/plain": [
       "{'AAPL': 612.78, 'HPQ': 37.2, 'IBM': 205.55}"
      ]
     },
     "execution_count": 4,
     "metadata": {},
     "output_type": "execute_result"
    }
   ],
   "source": [
    "#上述第二个可以写为,但是这样会花费较多时间\n",
    "p2 = dict((key, prices[key]) for key in prices.keys() & tech_names)\n",
    "p2"
   ]
  },
  {
   "cell_type": "markdown",
   "metadata": {},
   "source": [
    "#1.18映射名称到序列元素"
   ]
  },
  {
   "cell_type": "code",
   "execution_count": 6,
   "metadata": {},
   "outputs": [
    {
     "data": {
      "text/plain": [
       "subscriber(addr='joinsy@example.com', joined='2012-10-09')"
      ]
     },
     "execution_count": 6,
     "metadata": {},
     "output_type": "execute_result"
    }
   ],
   "source": [
    "#这个函数实际上是一个返回Python中标准元组类型子类的一个工厂方法。 你需要传递一个类型名和你需要的字段给它，\n",
    "#然后它就会返回一个类， 你可以初始化这个类， 为你定义的字段传递值\n",
    "from collections import namedtuple\n",
    "Subscriber = namedtuple('Subscriber', ['addr', 'joined'])\n",
    "sub = Subscriber('joinsy@example.com', '2012-10-09')\n",
    "\n",
    "sub"
   ]
  },
  {
   "cell_type": "code",
   "execution_count": 3,
   "metadata": {},
   "outputs": [
    {
     "name": "stdout",
     "output_type": "stream",
     "text": [
      "Stock(name='nao', shares=9, price=10)\nStock(name='nao', shares=8, price=10)\nStock(name='nao', shares=7, price=10)\n240.0\n"
     ]
    }
   ],
   "source": [
    "from collections import namedtuple\n",
    "Stock = namedtuple('Stock', ['name', 'shares', 'price'])\n",
    "\n",
    "def compute_cost(records):\n",
    "    total = 0.0\n",
    "    for record in records:\n",
    "        s = Stock(*record.values())\n",
    "        print(s)\n",
    "        total += s.shares * s.price\n",
    "    return total\n",
    "\n",
    "records = [{'name':'nao', 'shares':9, 'price':10},\n",
    "           {'name':'nao', 'shares':8, 'price':10},\n",
    "           {'name':'nao', 'shares':7, 'price':10}]\n",
    "\n",
    "print(compute_cost(records))"
   ]
  },
  {
   "cell_type": "code",
   "execution_count": 4,
   "metadata": {},
   "outputs": [
    {
     "data": {
      "text/plain": [
       "Stock(name='ACME', shares=100, price=123.45)"
      ]
     },
     "execution_count": 4,
     "metadata": {},
     "output_type": "execute_result"
    }
   ],
   "source": [
    "#命名元组作为字典的替代\n",
    "s = Stock('ACME', 100, 123.45)\n",
    "s\n"
   ]
  },
  {
   "cell_type": "code",
   "execution_count": 11,
   "metadata": {},
   "outputs": [
    {
     "data": {
      "text/plain": [
       "Stock(name='ACME', shares=100, price=123.45, date=None, time=None)"
      ]
     },
     "execution_count": 11,
     "metadata": {},
     "output_type": "execute_result"
    }
   ],
   "source": [
    "#但是命名元组不支持直接修改属性值，需要用_replace()方法\n",
    "from collections import namedtuple\n",
    "Stock = namedtuple('Stock', ['name', 'shares', 'price', 'date', 'time'])\n",
    "a = {'name':'ACME', 'shares':100, 'price':123.45}\n",
    "stock_prototype = Stock('', 0, 0.0, None, None)\n",
    "\n",
    "def dict_to_stock(s):\n",
    "    #这个地方用**是因为_replace仅接收键值对(形如shares=7)\n",
    "    #_replace() argument after ** must be a mapping\n",
    "    return stock_prototype._replace(**s)\n",
    "\n",
    "\n",
    "dict_to_stock(a)\n"
   ]
  },
  {
   "cell_type": "markdown",
   "metadata": {},
   "source": [
    "#1.19转换并同时计算数据"
   ]
  },
  {
   "cell_type": "code",
   "execution_count": 16,
   "metadata": {},
   "outputs": [
    {
     "data": {
      "text/plain": [
       "(20, 'AOL')"
      ]
     },
     "execution_count": 16,
     "metadata": {},
     "output_type": "execute_result"
    }
   ],
   "source": [
    "#使用生成器表达式\n",
    "portfolio = [\n",
    "{'name':'GOOG', 'shares': 50},\n",
    "{'name':'YHOO', 'shares': 75},\n",
    "{'name':'AOL', 'shares': 20},\n",
    "{'name':'SCOX', 'shares': 65}\n",
    "]\n",
    "#如下返回元组值\n",
    "min_shares = min((s['shares'], s['name']) for s in portfolio)\n",
    "#也可以这样实现返回一个整dict字典 \n",
    "#min_shares = min(portfolio, key=lambda x: x['shares'])\n",
    "min_shares"
   ]
  },
  {
   "cell_type": "markdown",
   "metadata": {},
   "source": [
    "#1.20合并多个字典或映射"
   ]
  },
  {
   "cell_type": "code",
   "execution_count": 21,
   "metadata": {},
   "outputs": [
    {
     "name": "stdout",
     "output_type": "stream",
     "text": [
      "ChainMap({'x': 1, 'z': 3}, {'y': 2, 'z': 4})\n"
     ]
    },
    {
     "data": {
      "text/plain": [
       "ChainMap({'x': 2, 'z': 3}, {'y': 2, 'z': 4})"
      ]
     },
     "execution_count": 21,
     "metadata": {},
     "output_type": "execute_result"
    }
   ],
   "source": [
    "a = {'x': 1, 'z': 3 }\n",
    "b = {'y': 2, 'z': 4 }\n",
    "#ChainMap会随着原字典更新而更新\n",
    "from collections import ChainMap\n",
    "c = ChainMap(a, b)\n",
    "print(c)\n",
    "a['x'] = 2\n",
    "c"
   ]
  },
  {
   "cell_type": "code",
   "execution_count": 20,
   "metadata": {},
   "outputs": [
    {
     "data": {
      "text/plain": [
       "{'y': 2, 'z': 3, 'x': 1}"
      ]
     },
     "execution_count": 20,
     "metadata": {},
     "output_type": "execute_result"
    }
   ],
   "source": [
    "#使用update方法也可以实现两字典合并,但不会随着原字典更新而更新。同时会破坏字典结构\n",
    "d = dict(b)\n",
    "d.update(a)\n",
    "d"
   ]
  }
 ],
 "metadata": {
  "kernelspec": {
   "display_name": "Python 2",
   "language": "python",
   "name": "python2"
  },
  "language_info": {
   "codemirror_mode": {
    "name": "ipython",
    "version": 2
   },
   "file_extension": ".py",
   "mimetype": "text/x-python",
   "name": "python",
   "nbconvert_exporter": "python",
   "pygments_lexer": "ipython2",
   "version": "2.7.6"
  }
 },
 "nbformat": 4,
 "nbformat_minor": 0
}
